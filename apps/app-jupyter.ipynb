{
 "cells": [
  {
   "cell_type": "code",
   "execution_count": null,
   "metadata": {},
   "outputs": [],
   "source": [
    "import pandas as pd\n",
    "\n",
    "\n",
    "data = {'Nome': ['Alice', 'Bob', 'Charlie', 'David'],\n",
    "        'Idade': [25, 30, 22, 28],\n",
    "        'Cidade': ['São Paulo', 'Rio de Janeiro', 'Belo Horizonte', 'Porto Alegre']}\n",
    "df = pd.DataFrame(data)\n",
    "print(df)\n",
    "df_filtrado = df[df['Idade'] > 25]"
   ]
  },
  {
   "cell_type": "code",
   "execution_count": null,
   "metadata": {},
   "outputs": [],
   "source": [
    "#criando outro arquivo\n",
    "\n",
    "grupo_cidade = df.groupby('Cidade')\n",
    "media_idades_por_cidade = grupo_cidade['Idade'].mean()\n",
    "print(media_idades_por_cidade)\n"
   ]
  },
  {
   "cell_type": "code",
   "execution_count": 9,
   "metadata": {},
   "outputs": [
    {
     "name": "stdout",
     "output_type": "stream",
     "text": [
      "(1, 'java', 'curso de java', 20, 10, 2020)\n",
      "(2, 'python', 'curso de python', 15, 7, 2020)\n",
      "(3, 'javascript', 'curso de js', 20, 10, 2020)\n",
      "(4, 'typescript', 'curso de type script', 15, 7, 2020)\n",
      "(5, 'mysql', 'curso de mysql', 20, 10, 2020)\n",
      "(6, 'html', 'curso de html', 15, 7, 2020)\n",
      "(7, 'css', 'curso de css', 20, 10, 2020)\n",
      "(8, 'c++', 'curso de c++', 15, 7, 2020)\n",
      "(9, '.net', 'curso de .net', 20, 10, 2020)\n",
      "(10, 'rust', 'curso de rust', 15, 7, 2020)\n"
     ]
    }
   ],
   "source": [
    "import pymysql \n",
    "\n",
    "# Connect to the database\n",
    "connection = pymysql.connect(host='localhost',\n",
    "                             user='renatomota',\n",
    "                             password='Senha123@',\n",
    "                             db= 'cadastro'\n",
    ")\n",
    "\n",
    "#executar query\n",
    "cursor = connection.cursor()\n",
    "cursor.execute(\"SELECT * FROM cursos\")\n",
    "\n",
    "#recuperar os resultados\n",
    "result = cursor.fetchall()\n",
    "\n",
    "#mostrar tabela\n",
    "\n",
    "for row in result:\n",
    "    print(row)\n",
    "\n",
    "#fechar a conexão\n",
    "connection.close()"
   ]
  },
  {
   "cell_type": "code",
   "execution_count": 14,
   "metadata": {},
   "outputs": [],
   "source": [
    "#criando uma segunda table\n",
    "\n",
    "connection = pymysql.connect(host='localhost',\n",
    "                             user='renatomota',\n",
    "                             password='Senha123@',\n",
    "                             db= 'cadastro'\n",
    ")\n",
    "\n",
    "cursor = connection.cursor()\n",
    "\n",
    "query = \"create table profissao (id int not null auto_increment primary key, profissao varchar(50))\"\n",
    "\n",
    "cursor.execute(query)\n",
    "\n",
    "\n",
    "connection.close()\n"
   ]
  },
  {
   "cell_type": "code",
   "execution_count": 16,
   "metadata": {},
   "outputs": [],
   "source": [
    "#preenchendo table \n",
    "\n",
    "# importando bibliotecas\n",
    "connection = pymysql.connect(host='localhost',\n",
    "                             user='renatomota',\n",
    "                             password='Senha123@',\n",
    "                             db= 'cadastro'\n",
    ")\n",
    "\n",
    "cursor = connection.cursor()\n",
    "\n",
    "# criando a query\n",
    "\n",
    "query = 'insert into profissao (profissao) values (%s)'\n",
    "values = ('Engenheiro')\n",
    "\n",
    "# executando a query\n",
    "\n",
    "cursor.execute(query, values)\n",
    "\n",
    "# confirmando a execução\n",
    "\n",
    "connection.commit()\n",
    "\n",
    "# fechando a conexão\n",
    "\n",
    "connection.close()\n",
    "\n",
    "# executando a query"
   ]
  }
 ],
 "metadata": {
  "kernelspec": {
   "display_name": "env",
   "language": "python",
   "name": "python3"
  },
  "language_info": {
   "codemirror_mode": {
    "name": "ipython",
    "version": 3
   },
   "file_extension": ".py",
   "mimetype": "text/x-python",
   "name": "python",
   "nbconvert_exporter": "python",
   "pygments_lexer": "ipython3",
   "version": "3.11.1"
  },
  "orig_nbformat": 4
 },
 "nbformat": 4,
 "nbformat_minor": 2
}
