{
 "cells": [
  {
   "cell_type": "code",
   "execution_count": 4,
   "metadata": {},
   "outputs": [
    {
     "name": "stdout",
     "output_type": "stream",
     "text": [
      "      Nome  Idade          Cidade\n",
      "0    Alice     25       São Paulo\n",
      "1      Bob     30  Rio de Janeiro\n",
      "2  Charlie     22  Belo Horizonte\n",
      "3    David     28    Porto Alegre\n"
     ]
    }
   ],
   "source": [
    "import pandas as pd\n",
    "\n",
    "\n",
    "data = {'Nome': ['Alice', 'Bob', 'Charlie', 'David'],\n",
    "        'Idade': [25, 30, 22, 28],\n",
    "        'Cidade': ['São Paulo', 'Rio de Janeiro', 'Belo Horizonte', 'Porto Alegre']}\n",
    "df = pd.DataFrame(data)\n",
    "print(df)\n",
    "df_filtrado = df[df['Idade'] > 25]"
   ]
  },
  {
   "cell_type": "code",
   "execution_count": 5,
   "metadata": {},
   "outputs": [
    {
     "name": "stdout",
     "output_type": "stream",
     "text": [
      "Cidade\n",
      "Belo Horizonte    22.0\n",
      "Porto Alegre      28.0\n",
      "Rio de Janeiro    30.0\n",
      "São Paulo         25.0\n",
      "Name: Idade, dtype: float64\n"
     ]
    }
   ],
   "source": [
    "#criando outro arquivo\n",
    "\n",
    "grupo_cidade = df.groupby('Cidade')\n",
    "media_idades_por_cidade = grupo_cidade['Idade'].mean()\n",
    "print(media_idades_por_cidade)\n"
   ]
  }
 ],
 "metadata": {
  "kernelspec": {
   "display_name": "env",
   "language": "python",
   "name": "python3"
  },
  "language_info": {
   "codemirror_mode": {
    "name": "ipython",
    "version": 3
   },
   "file_extension": ".py",
   "mimetype": "text/x-python",
   "name": "python",
   "nbconvert_exporter": "python",
   "pygments_lexer": "ipython3",
   "version": "3.11.1"
  },
  "orig_nbformat": 4
 },
 "nbformat": 4,
 "nbformat_minor": 2
}
